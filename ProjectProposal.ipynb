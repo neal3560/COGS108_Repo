{
 "cells": [
  {
   "cell_type": "markdown",
   "metadata": {},
   "source": [
    "# COGS 108 - Project Proposal"
   ]
  },
  {
   "cell_type": "markdown",
   "metadata": {},
   "source": [
    "## Important\n",
    "\n",
    "- Make sure all group members (3-5 people) are listed in the group members section.\n",
    "- ONE, and only one, member of your group should upload this notebook to TritonED. \n",
    "- Each member of the group will receive the same grade on this assignment. \n",
    "- Keep the file name the same: submit the file 'ProjectProposal.ipynb'"
   ]
  },
  {
   "cell_type": "markdown",
   "metadata": {},
   "source": [
    "## Overview"
   ]
  },
  {
   "cell_type": "markdown",
   "metadata": {},
   "source": [
    "Read the project description and detailed instructions for this assignment in the 'ProjectOutline' document."
   ]
  },
  {
   "cell_type": "markdown",
   "metadata": {},
   "source": [
    "## Group Members: Fill in the Student IDs of each group member here\n",
    "\n",
    "Replace the lines below to list each persons full student ID. Add lines as needed for your group size, and make sure each ID is listed on a separate line. \n",
    "\n",
    "- A91041415\n",
    "- A92108258\n",
    "- A12994404\n",
    "- A13963226\n",
    "- A13617776\n",
    "- A13509280\n"
   ]
  },
  {
   "cell_type": "markdown",
   "metadata": {},
   "source": [
    "### Research Question\n",
    "\n",
    "What is your research question? (1-2 sentences)"
   ]
  },
  {
   "cell_type": "markdown",
   "metadata": {},
   "source": [
    "Do courses instructed by professors who have poor ratings and feedback generally have lower grade on average? Or are there any other factors that affect the overall grade? How do students estimate their grades? What factors may have an effect on the difference between students’ estimated GPA and actual received GPA?"
   ]
  },
  {
   "cell_type": "markdown",
   "metadata": {},
   "source": [
    "### Hypothesis\n",
    "\n",
    "What is your main hypothesis and predictions? (2-3 sentences)"
   ]
  },
  {
   "cell_type": "markdown",
   "metadata": {},
   "source": [
    "1. Courses with smaller size have better overall grades\n",
    "2. The amount of hours students tend to spend every week is proportional to the difficulty of the class\n",
    "3. The more hours students tend to spend every week, the lower the GPA for the course.\n",
    "4. Better professors ratings on CAPE result in higher overall grade of the course"
   ]
  },
  {
   "cell_type": "markdown",
   "metadata": {},
   "source": [
    "### Dataset(s)\n",
    "\n",
    "What data will you use to answer your question? Describe the dataset(s) in terms of number of observations, what kind of features it contains, etc. You must use at least one dataset containing at least approximately 1000 observations (if your data are smaller but you feel they are sufficient, email Prof. Voytek). You are welcome (and in fact recommended) to find multiple datasets! If you do so, describe each one, and briefly explain how you will combine them together. "
   ]
  },
  {
   "cell_type": "markdown",
   "metadata": {},
   "source": [
    "*Fill in your dataset information here*\n",
    "\n",
    "(Copy this information for each dataset)\n",
    "- Dataset Name: Course And Professors Evaluations (CAPE)\n",
    "- Link to the dataset: http://www.cape.ucsd.edu/responses/Results.aspx\n",
    "- Number of observations: 41378\n",
    "\n",
    "\n",
    "1-2 sentences describing the dataset. \n",
    "\n",
    "If you plan to use multiple datasets, add 1-2 sentences about how you plan to combine these datasets.\n",
    "\n",
    "\n",
    "\n",
    "*We plan to scrape the datasets from CAPE, which includes 10 variables: Instructor, Course, Term, Enroll time, total number of evaluations made, Recommended class percentage, recommended Instructor percentage, Study hours/week, Average Grade Expected and Average Grade Received.   The datasets includes 10 years starting from 2007 to 2017. We are going to use one dataset, which includes evaluations from different instructors from various courses and departments. Then we can compare the differences between easier course and harder courses, as well as the differences specifically between professors within the same class.*"
   ]
  },
  {
   "cell_type": "markdown",
   "metadata": {},
   "source": [
    "### Background and Prior Work\n",
    "\n",
    "Why is this question of interest, what background information led you to your hypothesis, and why is this important?\n",
    "\n",
    "Find some relevant prior work, and reference those sources. Even if you think you have a totally novel question, find the most similar prior work that you can and discuss how it relates to your project. \n",
    "\n",
    "References can be research publications, but they need not be. Blogs, github repositories, company websites, etc., are all viable references if they are relevant to your project.\n",
    "\n",
    "(2-3 paragraphs, including at least 2 references)"
   ]
  },
  {
   "cell_type": "markdown",
   "metadata": {},
   "source": [
    "When students are trying to enroll in a course, they are trying to find which course both satisfy their course requirement and their personal requirements. Such as the difficulties of the course and professors. Students tend to look at CAPE to have an idea on the difficulties of the class and the instructor based on the hours to spend on the course each week and recommended percentages. We are trying to benefits more students by finding some specific relations between the factors and the Gpa. It is important because with such analysis, it might be easier for students to pick their satisfied course from all the various courses provided. \n",
    "\n",
    "From the prior work of “Is Gpa affected by hours studying, classes missed, and age”, there are many  possible factors affect a student’s Gpa, including the time they spend on study, the amount of class they miss per week… Therefore, we believe there might be some correlation happen between amount of hours students spend on the course and their Gpa received. But at the same time, there might be many implicit factors we need to pay attention on.\n",
    "\n",
    "From the research “Students' feedback: An effective tool in teachers' evaluation system”, they tested the teacher by grabbing the comments on a platform and give some professional suggestion to the teacher. Then, the teacher will have a 3 months to improve their teaching skills. At the end, they will make another rate and questionnaire to the student toward this teacher to test whether the feedback system is effective or not. The result for this study was that more than two-thirds of students agree that the feedback system is effective.  \n",
    "\n",
    "References (include links):\n",
    "- 1) https://www.statcrunch.com/5.0/viewreport.php?reportid=24006&groupid=656\n",
    "- 2) https://www.ncbi.nlm.nih.gov/pmc/articles/PMC4979299/"
   ]
  },
  {
   "cell_type": "markdown",
   "metadata": {},
   "source": [
    "### Proposed Methods\n",
    "\n",
    "What methods will you use to analyze your data?\n",
    "\n",
    "- How 'clean' is the data? To the extent that it requires cleaning, how will you do so?\n",
    "- How will you analyze the data? Be as specific as you can. Briefly mention any pre-processing steps that are required for your methods (for example, checking data distributions and performing any transformations that may be required). Include a brief outline of how you will apply your chosen method(s). \n",
    "- What do you plan to report? Briefly mention any key visualizations you plan to create, and/or the kind of results you will be able to report that address your question (this could be, for example, the outcome of some statistical test(s), prediction error on a model, a model fit parameter, etc.).\n",
    "- Include a list of packages you expect to use for you project. If you plan to use packages we have not used in class, add a very brief description about them (a few words is sufficient). "
   ]
  },
  {
   "cell_type": "markdown",
   "metadata": {},
   "source": [
    "Data Cleaning (2-3 sentences)\n",
    "\n",
    "We will use Requests to fetch the CAPE webpage. We will then use BeautifulSoup to consume the webpage content, retrieve and format the data we need, and save the data to a csv/json file. After that, we will utilize Pandas to discard dirty data such as “no evaluation made”. We will anonymize and convert the data based on Safe Harbor Rule. Finally, we need to take care of outliers in our data, for example, classes that have too few evaluations.\n",
    "\n",
    "Data Analysis (1-2 paragraphs)\n",
    "\n",
    "First we will conduct a personal data encryption which will transform the real course number and professor's name into encrypted codes which eliminates all personal data while keeps the courses data(ex. COGS108 Prof. Voytek → COGS 1 A, in which “1” refers to 108 and “A” refers to Prof. Voytek). We will both analyse the dataset all together and by departments which can offers a clearer view of the relationship we want to examine in this research. As the data amount from different departments differs from each other, when we conduct the overall analysis we will select an equal amount of data from each departments to avoid a biased data.\n",
    "\n",
    "What to report (2-3 sentences)\n",
    "\n",
    "We will draw a couple of scatterplot with the best fit lines between professors’ rating, class sizes, study hours and students’ average GPA to find the possible underlying correlation. We will also draw graphs for some notable departments (ones with high number of evaluations) and try to note the difference between different departments. \n",
    "\n",
    "Packages we plan to use:\n",
    "- Chromium (simulate browser behavior when scraping the data)\n",
    "- BeautifulSoup\n",
    "- Requests\n",
    "- Pandas\n",
    "- Numpy\n",
    "- Matplotlib\n",
    "- Bokeh\n",
    "- Scikit-learn\n"
   ]
  },
  {
   "cell_type": "markdown",
   "metadata": {},
   "source": [
    "### Ethics and Privacy\n",
    "\n",
    "Briefly acknowledge and address any potential issues of ethics and privacy for the proposed project. In particular:\n",
    "- Do you have permission to use this data, for this purpose?\n",
    "- Are there privacy concerns regarding your datasets that you need to deal with, and/or terms of use that you need to comply with?\n",
    "- Are there potential biases in your dataset(s), in terms of who it composes, and how it was collected, that may be problematic in terms of it allowing for equitable analysis? (For example, does your data exclude particular populations, or is it likely to reflect particular human biases in a way that could be a problem?) \n",
    "- Are there any other issues related to your topic area, data, and/or analyses that are potentially problematic in terms of data privacy and equitable impact?\n",
    "- How will you handle any issues you identify?\n",
    "\n",
    "(1-2 paragraphs)\n",
    "\n",
    "UCSD encourages the use of the data of its website for researching purposes therefore using of CAPEs data is allowed. The datasets contains a lot of professors’ name and specific course number ,use of which appears to be a privacy concern so we will transform those names and numbers into encrypted code that will not expose personal information. As CAPEs mainly focuses on academic datasets there is little potential biases we found that violates equitable analysis. Furthermore, in the research we will drop all the professors’ personal data, which means we focuses mainly on the overall relationship between professors’ rating and students’ GPA. Thus in our analyses there is a extremely small chance that will be problematic in terms of data privacy and equitable impact."
   ]
  },
  {
   "cell_type": "markdown",
   "metadata": {},
   "source": [
    "### Discussion\n",
    "\n",
    "Discuss your project, looking forward to what your results might mean, how they fit it in with what is already known, and what problems you may encounter. \n",
    "\n",
    "In particular:\n",
    "- If your analyses and hypotheses are correct, what will be the contribution of this project to the topic domain? \n",
    "- Alternatively, what will you do if you methods don't work and/or your hypotheses are wrong? \n",
    "- What are the potential pitfalls and potential confounds of your data and/or methods that may cause problems, and/or influence your interpretations?\n",
    "\n",
    "(2-3 paragraphs)"
   ]
  },
  {
   "cell_type": "markdown",
   "metadata": {},
   "source": [
    "If our analyses and hypotheses are correct, it could effectively help UCSD students to plan their schedule and have an idea of what grade they will receive based on the quantitative data collected in CAPE. A problem that many UCSD students encounter is that they have mismatched expectations of the difficulty and average grade received for the course. By looking at the raw data provided by CAPE, students do not really understand the internal relationships between each variable. Consequently, it is highly possible that they might underestimate the difficulty of a hard course or overestimate that of an easy course. If our hypotheses are correct, students are able to follow the relationships we found between the variables, which could give them better understanding of the course as a whole. On the other hand, if our methods don’t work or our hypotheses are wrong, it could still help students to understand what are the patterns between the variables that do not exist. This could again clear some of the misunderstandings from the students.\n",
    "\n",
    "There are also potential pitfalls and confounds in our data that may influence our interpretations. Firstly, all the data from CAPE are filled by students from UCSD based on their personal understanding and feelings of the course. Hence, there is no control of how reflective each data is relating to the professor and course. It is possible that the professor of a course is actually a good lecturer, but many students in the course didn’t like the way the professor instructs the course, and hence leave negative feedbacks on CAPE. Moreover, since CAPE is not mandatory, the data may not reflect the image of the course as a whole. It is possible that only students with negative feelings would fill the CAPE for a particular course, and vice versa. However, since the data is large enough, we believe the likelihood of this case is relatively low. More importantly, since UCSD students are already using CAPE data to make judgements of the course, our analysis would still provide helpful and good feedbacks to provide them better understanding of each course."
   ]
  },
  {
   "cell_type": "code",
   "execution_count": null,
   "metadata": {
    "collapsed": true
   },
   "outputs": [],
   "source": []
  }
 ],
 "metadata": {
  "kernelspec": {
   "display_name": "Python 3",
   "language": "python",
   "name": "python3"
  },
  "language_info": {
   "codemirror_mode": {
    "name": "ipython",
    "version": 3
   },
   "file_extension": ".py",
   "mimetype": "text/x-python",
   "name": "python",
   "nbconvert_exporter": "python",
   "pygments_lexer": "ipython3",
   "version": "3.6.4"
  }
 },
 "nbformat": 4,
 "nbformat_minor": 2
}
